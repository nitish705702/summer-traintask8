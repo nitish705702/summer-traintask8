{
 "cells": [
  {
   "cell_type": "code",
   "execution_count": null,
   "id": "5984c185",
   "metadata": {},
   "outputs": [],
   "source": [
    "#import OpenCv library\n",
    "import cv2"
   ]
  },
  {
   "cell_type": "code",
   "execution_count": null,
   "id": "09a31b0d",
   "metadata": {},
   "outputs": [],
   "source": [
    "#OpenCV VideoCapture\n",
    "cap = cv2.VideoCapture('videoplay.mp4')"
   ]
  },
  {
   "cell_type": "code",
   "execution_count": null,
   "id": "84ed86bd",
   "metadata": {},
   "outputs": [],
   "source": [
    "car_cascade = cv2.CascadeClassifier( 'cars.xml')"
   ]
  },
  {
   "cell_type": "code",
   "execution_count": null,
   "id": "4d5f003b",
   "metadata": {},
   "outputs": [],
   "source": [
    "while True:\n",
    "    # reads frames from a video\n",
    "    ret, frames = cap.read()\n",
    "    cars = car_cascade.detectMultiScale(frames)\n",
    "    for (x,y,w,h) in cars:\n",
    "        cv2.rectangle(frames,(x,y),(x+w,y+h),(0,0,255),2)\n",
    "        cv2.imshow('Car Detection', frames)\n",
    "    if cv2.waitKey(1) == 13:\n",
    "        break\n",
    "cv2.destroyAllWindows()"
   ]
  },
  {
   "cell_type": "code",
   "execution_count": null,
   "id": "aba8165d",
   "metadata": {},
   "outputs": [],
   "source": []
  }
 ],
 "metadata": {
  "kernelspec": {
   "display_name": "Python 3",
   "language": "python",
   "name": "python3"
  },
  "language_info": {
   "codemirror_mode": {
    "name": "ipython",
    "version": 3
   },
   "file_extension": ".py",
   "mimetype": "text/x-python",
   "name": "python",
   "nbconvert_exporter": "python",
   "pygments_lexer": "ipython3",
   "version": "3.8.8"
  }
 },
 "nbformat": 4,
 "nbformat_minor": 5
}
