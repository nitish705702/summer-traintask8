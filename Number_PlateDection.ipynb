{
 "cells": [
  {
   "cell_type": "code",
   "execution_count": 8,
   "id": "6f589539",
   "metadata": {},
   "outputs": [],
   "source": [
    "import cv2\n"
   ]
  },
  {
   "cell_type": "code",
   "execution_count": 9,
   "id": "d8ad484a",
   "metadata": {},
   "outputs": [],
   "source": [
    "img = cv2.imread(\"download.jpg\")"
   ]
  },
  {
   "cell_type": "code",
   "execution_count": 10,
   "id": "96d5def7",
   "metadata": {},
   "outputs": [],
   "source": [
    "model = cv2.CascadeClassifier('indian_plate.xml')"
   ]
  },
  {
   "cell_type": "code",
   "execution_count": 11,
   "id": "157b394e",
   "metadata": {},
   "outputs": [],
   "source": [
    "gray = cv2.cvtColor(img,cv2.COLOR_BGR2GRAY)"
   ]
  },
  {
   "cell_type": "code",
   "execution_count": 12,
   "id": "675bb017",
   "metadata": {},
   "outputs": [],
   "source": [
    "plate = model.detectMultiScale(gray)"
   ]
  },
  {
   "cell_type": "code",
   "execution_count": 13,
   "id": "a9d6107f",
   "metadata": {},
   "outputs": [
    {
     "data": {
      "text/plain": [
       "True"
      ]
     },
     "execution_count": 13,
     "metadata": {},
     "output_type": "execute_result"
    }
   ],
   "source": [
    "x1 = plate[0][0]\n",
    "x2 = x1+plate[0][2]\n",
    "y1 = plate[0][1]\n",
    "y2 = y1+plate[0][3]\n",
    "n_plate = img[y1:y2, x1:x2]\n",
    "cv2.imshow('Car Detection', n_plate)\n",
    "cv2.waitKey()\n",
    "cv2.destroyAllWindows()\n",
    "cv2.imwrite(\"detected_plate.png\", n_plate)"
   ]
  },
  {
   "cell_type": "code",
   "execution_count": null,
   "id": "fcf82d98",
   "metadata": {},
   "outputs": [],
   "source": []
  }
 ],
 "metadata": {
  "kernelspec": {
   "display_name": "Python 3",
   "language": "python",
   "name": "python3"
  },
  "language_info": {
   "codemirror_mode": {
    "name": "ipython",
    "version": 3
   },
   "file_extension": ".py",
   "mimetype": "text/x-python",
   "name": "python",
   "nbconvert_exporter": "python",
   "pygments_lexer": "ipython3",
   "version": "3.8.8"
  }
 },
 "nbformat": 4,
 "nbformat_minor": 5
}
